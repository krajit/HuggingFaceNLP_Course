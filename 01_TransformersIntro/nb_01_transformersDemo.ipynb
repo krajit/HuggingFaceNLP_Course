{
 "cells": [
  {
   "cell_type": "markdown",
   "metadata": {},
   "source": [
    "Read this\n",
    "\n",
    "https://huggingface.co/learn/nlp-course/en/chapter1/3?fw=pt"
   ]
  },
  {
   "cell_type": "markdown",
   "metadata": {},
   "source": []
  }
 ],
 "metadata": {
  "language_info": {
   "name": "python"
  }
 },
 "nbformat": 4,
 "nbformat_minor": 2
}
